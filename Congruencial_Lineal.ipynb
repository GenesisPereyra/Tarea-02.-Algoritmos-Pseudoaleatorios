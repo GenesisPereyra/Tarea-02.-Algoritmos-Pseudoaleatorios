{
  "nbformat": 4,
  "nbformat_minor": 0,
  "metadata": {
    "colab": {
      "provenance": [],
      "authorship_tag": "ABX9TyPiG+kd0oIHFMBKKnb7GuHR",
      "include_colab_link": true
    },
    "kernelspec": {
      "name": "python3",
      "display_name": "Python 3"
    },
    "language_info": {
      "name": "python"
    }
  },
  "cells": [
    {
      "cell_type": "markdown",
      "metadata": {
        "id": "view-in-github",
        "colab_type": "text"
      },
      "source": [
        "<a href=\"https://colab.research.google.com/github/GenesisPereyra/Tarea-02.-Algoritmos-Pseudoaleatorios/blob/main/Congruencial_Lineal.ipynb\" target=\"_parent\"><img src=\"https://colab.research.google.com/assets/colab-badge.svg\" alt=\"Open In Colab\"/></a>"
      ]
    },
    {
      "cell_type": "markdown",
      "source": [
        "Ana Karen Márquez Escobar | A01028413\n",
        "\n",
        "Genesis Pereyra Camacho | A01734276"
      ],
      "metadata": {
        "id": "5euLwahjwTrZ"
      }
    },
    {
      "cell_type": "markdown",
      "source": [
        "#Congruencial Lineal"
      ],
      "metadata": {
        "id": "PeSZdpyHwEFN"
      }
    },
    {
      "cell_type": "code",
      "source": [
        "class CongruencialMixto:\n",
        "    def __init__(self, a, c, m, semilla):\n",
        "        self.a = a\n",
        "        self.c = c\n",
        "        self.m = m\n",
        "        self.x = semilla\n",
        "\n",
        "    def generar_numero(self):\n",
        "\n",
        "        return self.x\n",
        "\n",
        "    def calcular_intermedio(self):\n",
        "\n",
        "        return self.a * self.x + self.c\n",
        "\n",
        "    def aplicar_modulo(self):\n",
        "\n",
        "        return (self.calcular_intermedio()) % self.m\n",
        "\n",
        "    def generar_siguiente(self):\n",
        "\n",
        "        self.x = self.aplicar_modulo()\n",
        "        return self.x\n",
        "\n",
        "\n",
        "def generar_congruencial(a, c, m, semilla, cantidad):\n",
        "\n",
        "    generador = CongruencialMixto(a, c, m, semilla)\n",
        "    resultados = []\n",
        "\n",
        "    for n in range(0, cantidad + 1):\n",
        "        x_n = generador.generar_numero()\n",
        "        intermedio = generador.calcular_intermedio()\n",
        "        modulo = generador.aplicar_modulo()\n",
        "        resultados.append((n, x_n, intermedio, modulo))\n",
        "        generador.generar_siguiente()\n",
        "\n",
        "    return resultados\n",
        "\n",
        "\n",
        "def main():\n",
        "    try:\n",
        "        a = int(input(\"Ingresa el valor de 'a' (Multiplicador): \"))\n",
        "        c = int(input(\"Ingresa el valor de 'c' (Incremento): \"))\n",
        "        m = int(input(\"Ingresa el valor de 'm' (Módulo): \"))\n",
        "        semilla = int(input(\"Ingresa el valor de la semilla: \"))\n",
        "        cantidad = int(input(\"Ingresa la cantidad de números a generar: \"))\n",
        "\n",
        "        if m <= 0 or a <= 0 or c < 0 or semilla < 0 or cantidad <= 0:\n",
        "            raise ValueError(\"Los valores deben ser positivos.\")\n",
        "\n",
        "        resultados = generar_congruencial(a, c, m, semilla, cantidad)\n",
        "\n",
        "        print(\"\\nTabla de Resultados:\")\n",
        "        print(f\"{'n':<5} {'X(n)':<10} {'a*X(n)+c':<15} {'[a*X(n)+c] mod m'}\")\n",
        "        print(\"-\" * 50)\n",
        "        for resultado in resultados:\n",
        "            n, x_n, intermedio, modulo = resultado\n",
        "            print(f\"{n:<5} {x_n:<10} {intermedio:<15} {modulo}\")\n",
        "\n",
        "    except ValueError as e:\n",
        "        print(f\"Error: {e}\")\n",
        "\n",
        "\n",
        "if __name__ == \"__main__\":\n",
        "    main()"
      ],
      "metadata": {
        "colab": {
          "base_uri": "https://localhost:8080/"
        },
        "id": "RwB9CRRBrz1e",
        "outputId": "ac09c087-295f-45ef-c09a-59a7ad68fcd0"
      },
      "execution_count": 18,
      "outputs": [
        {
          "output_type": "stream",
          "name": "stdout",
          "text": [
            "Ingresa el valor de 'a' (Multiplicador): 7\n",
            "Ingresa el valor de 'c' (Incremento): 9\n",
            "Ingresa el valor de 'm' (Módulo): 11\n",
            "Ingresa el valor de la semilla: 50\n",
            "Ingresa la cantidad de números a generar: 15\n",
            "\n",
            "Tabla de Resultados:\n",
            "n     X(n)       a*X(n)+c        [a*X(n)+c] mod m\n",
            "--------------------------------------------------\n",
            "0     50         359             7\n",
            "1     7          58              3\n",
            "2     3          30              8\n",
            "3     8          65              10\n",
            "4     10         79              2\n",
            "5     2          23              1\n",
            "6     1          16              5\n",
            "7     5          44              0\n",
            "8     0          9               9\n",
            "9     9          72              6\n",
            "10    6          51              7\n",
            "11    7          58              3\n",
            "12    3          30              8\n",
            "13    8          65              10\n",
            "14    10         79              2\n",
            "15    2          23              1\n"
          ]
        }
      ]
    }
  ]
}